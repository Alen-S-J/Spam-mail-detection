{
 "cells": [
  {
   "cell_type": "code",
   "execution_count": 84,
   "metadata": {},
   "outputs": [],
   "source": [
    "import numpy as np\n",
    "import pandas as pd\n",
    "from sklearn.model_selection import train_test_split\n",
    "from sklearn.feature_extraction.text import TfidfVectorizer\n",
    "from sklearn.linear_model import LogisticRegression\n",
    "from sklearn.metrics import accuracy_score"
   ]
  },
  {
   "cell_type": "code",
   "execution_count": 85,
   "metadata": {},
   "outputs": [],
   "source": [
    "df=pd.read_csv(\"mail_data.csv\")"
   ]
  },
  {
   "cell_type": "code",
   "execution_count": 86,
   "metadata": {},
   "outputs": [
    {
     "data": {
      "text/html": [
       "<div>\n",
       "<style scoped>\n",
       "    .dataframe tbody tr th:only-of-type {\n",
       "        vertical-align: middle;\n",
       "    }\n",
       "\n",
       "    .dataframe tbody tr th {\n",
       "        vertical-align: top;\n",
       "    }\n",
       "\n",
       "    .dataframe thead th {\n",
       "        text-align: right;\n",
       "    }\n",
       "</style>\n",
       "<table border=\"1\" class=\"dataframe\">\n",
       "  <thead>\n",
       "    <tr style=\"text-align: right;\">\n",
       "      <th></th>\n",
       "      <th>Category</th>\n",
       "      <th>Message</th>\n",
       "    </tr>\n",
       "  </thead>\n",
       "  <tbody>\n",
       "    <tr>\n",
       "      <th>count</th>\n",
       "      <td>5572</td>\n",
       "      <td>5572</td>\n",
       "    </tr>\n",
       "    <tr>\n",
       "      <th>unique</th>\n",
       "      <td>2</td>\n",
       "      <td>5157</td>\n",
       "    </tr>\n",
       "    <tr>\n",
       "      <th>top</th>\n",
       "      <td>ham</td>\n",
       "      <td>Sorry, I'll call later</td>\n",
       "    </tr>\n",
       "    <tr>\n",
       "      <th>freq</th>\n",
       "      <td>4825</td>\n",
       "      <td>30</td>\n",
       "    </tr>\n",
       "  </tbody>\n",
       "</table>\n",
       "</div>"
      ],
      "text/plain": [
       "       Category                 Message\n",
       "count      5572                    5572\n",
       "unique        2                    5157\n",
       "top         ham  Sorry, I'll call later\n",
       "freq       4825                      30"
      ]
     },
     "execution_count": 86,
     "metadata": {},
     "output_type": "execute_result"
    }
   ],
   "source": [
    "df.describe()"
   ]
  },
  {
   "cell_type": "code",
   "execution_count": 87,
   "metadata": {},
   "outputs": [
    {
     "data": {
      "text/plain": [
       "<bound method NDFrame.head of      Category                                            Message\n",
       "0         ham  Go until jurong point, crazy.. Available only ...\n",
       "1         ham                      Ok lar... Joking wif u oni...\n",
       "2        spam  Free entry in 2 a wkly comp to win FA Cup fina...\n",
       "3         ham  U dun say so early hor... U c already then say...\n",
       "4         ham  Nah I don't think he goes to usf, he lives aro...\n",
       "...       ...                                                ...\n",
       "5567     spam  This is the 2nd time we have tried 2 contact u...\n",
       "5568      ham               Will ü b going to esplanade fr home?\n",
       "5569      ham  Pity, * was in mood for that. So...any other s...\n",
       "5570      ham  The guy did some bitching but I acted like i'd...\n",
       "5571      ham                         Rofl. Its true to its name\n",
       "\n",
       "[5572 rows x 2 columns]>"
      ]
     },
     "execution_count": 87,
     "metadata": {},
     "output_type": "execute_result"
    }
   ],
   "source": [
    "df.head"
   ]
  },
  {
   "cell_type": "code",
   "execution_count": 88,
   "metadata": {},
   "outputs": [],
   "source": [
    "data=df.where((pd.notnull(df)),'')"
   ]
  },
  {
   "cell_type": "code",
   "execution_count": 89,
   "metadata": {},
   "outputs": [
    {
     "data": {
      "text/plain": [
       "(5572, 2)"
      ]
     },
     "execution_count": 89,
     "metadata": {},
     "output_type": "execute_result"
    }
   ],
   "source": [
    "data.shape"
   ]
  },
  {
   "cell_type": "code",
   "execution_count": 90,
   "metadata": {},
   "outputs": [
    {
     "data": {
      "text/plain": [
       "Index(['Category', 'Message'], dtype='object')"
      ]
     },
     "execution_count": 90,
     "metadata": {},
     "output_type": "execute_result"
    }
   ],
   "source": [
    "data.columns"
   ]
  },
  {
   "cell_type": "code",
   "execution_count": 91,
   "metadata": {},
   "outputs": [],
   "source": [
    "# label spam mail as 0 :ham mail as 1\n",
    "data.loc[data['Category']=='spam','Category',]=0\n",
    "data.loc[data['Category']=='ham','Category',]=1"
   ]
  },
  {
   "cell_type": "code",
   "execution_count": 92,
   "metadata": {},
   "outputs": [
    {
     "data": {
      "text/plain": [
       "<bound method NDFrame.head of      Category                                            Message\n",
       "0           1  Go until jurong point, crazy.. Available only ...\n",
       "1           1                      Ok lar... Joking wif u oni...\n",
       "2           0  Free entry in 2 a wkly comp to win FA Cup fina...\n",
       "3           1  U dun say so early hor... U c already then say...\n",
       "4           1  Nah I don't think he goes to usf, he lives aro...\n",
       "...       ...                                                ...\n",
       "5567        0  This is the 2nd time we have tried 2 contact u...\n",
       "5568        1               Will ü b going to esplanade fr home?\n",
       "5569        1  Pity, * was in mood for that. So...any other s...\n",
       "5570        1  The guy did some bitching but I acted like i'd...\n",
       "5571        1                         Rofl. Its true to its name\n",
       "\n",
       "[5572 rows x 2 columns]>"
      ]
     },
     "execution_count": 92,
     "metadata": {},
     "output_type": "execute_result"
    }
   ],
   "source": [
    "data.head"
   ]
  },
  {
   "cell_type": "code",
   "execution_count": 93,
   "metadata": {},
   "outputs": [],
   "source": [
    "x=data['Message']\n",
    "y=data['Category']"
   ]
  },
  {
   "cell_type": "code",
   "execution_count": 94,
   "metadata": {},
   "outputs": [
    {
     "name": "stdout",
     "output_type": "stream",
     "text": [
      "0       Go until jurong point, crazy.. Available only ...\n",
      "1                           Ok lar... Joking wif u oni...\n",
      "2       Free entry in 2 a wkly comp to win FA Cup fina...\n",
      "3       U dun say so early hor... U c already then say...\n",
      "4       Nah I don't think he goes to usf, he lives aro...\n",
      "                              ...                        \n",
      "5567    This is the 2nd time we have tried 2 contact u...\n",
      "5568                 Will ü b going to esplanade fr home?\n",
      "5569    Pity, * was in mood for that. So...any other s...\n",
      "5570    The guy did some bitching but I acted like i'd...\n",
      "5571                           Rofl. Its true to its name\n",
      "Name: Message, Length: 5572, dtype: object\n"
     ]
    }
   ],
   "source": [
    "print(x)"
   ]
  },
  {
   "cell_type": "code",
   "execution_count": 95,
   "metadata": {},
   "outputs": [
    {
     "name": "stdout",
     "output_type": "stream",
     "text": [
      "0       1\n",
      "1       1\n",
      "2       0\n",
      "3       1\n",
      "4       1\n",
      "       ..\n",
      "5567    0\n",
      "5568    1\n",
      "5569    1\n",
      "5570    1\n",
      "5571    1\n",
      "Name: Category, Length: 5572, dtype: object\n"
     ]
    }
   ],
   "source": [
    "print(y)"
   ]
  },
  {
   "cell_type": "code",
   "execution_count": 96,
   "metadata": {},
   "outputs": [],
   "source": [
    "x_train,x_test,y_train,y_test = train_test_split(x,y,test_size=0.2,random_state=4)"
   ]
  },
  {
   "cell_type": "code",
   "execution_count": 97,
   "metadata": {},
   "outputs": [],
   "source": [
    "feature_extraction=TfidfVectorizer(min_df = 1, stop_words='english' , lowercase=True)\n",
    "x_train_features=feature_extraction.fit_transform(x_train)\n",
    "x_test_features=feature_extraction.transform(x_test)\n",
    "\n",
    "y_train=y_train.astype('int')\n",
    "y_test=y_test.astype('int')"
   ]
  },
  {
   "cell_type": "code",
   "execution_count": 98,
   "metadata": {},
   "outputs": [
    {
     "name": "stdout",
     "output_type": "stream",
     "text": [
      "  (0, 4076)\t0.21814163878169243\n",
      "  (0, 4189)\t0.40714919169918795\n",
      "  (0, 5531)\t0.3423416769137198\n",
      "  (0, 1705)\t0.3274543662048457\n",
      "  (0, 4787)\t0.29950623963635054\n",
      "  (0, 7166)\t0.23411798769212422\n",
      "  (0, 6220)\t0.40714919169918795\n",
      "  (0, 3094)\t0.1960160348955552\n",
      "  (0, 3189)\t0.2695003791316419\n",
      "  (0, 3068)\t0.20722043882108684\n",
      "  (0, 6023)\t0.31295501407186926\n",
      "  (1, 5240)\t0.49842861309340514\n",
      "  (1, 5773)\t0.7151217422337083\n",
      "  (1, 4061)\t0.4900712309801611\n",
      "  (2, 4744)\t0.18868130288704416\n",
      "  (2, 3339)\t0.25960869981277335\n",
      "  (2, 5823)\t0.25061469947311094\n",
      "  (2, 312)\t0.1771020551801762\n",
      "  (2, 299)\t0.19209527463945028\n",
      "  (2, 407)\t0.2722850313233416\n",
      "  (2, 7114)\t0.2722850313233416\n",
      "  (2, 1408)\t0.18464166862372272\n",
      "  (2, 5092)\t0.18560370392241915\n",
      "  (2, 2034)\t0.18192137275151332\n",
      "  (2, 5687)\t0.20537868697819087\n",
      "  :\t:\n",
      "  (4454, 2350)\t0.3603401295867597\n",
      "  (4455, 1263)\t0.36319212343381085\n",
      "  (4455, 1810)\t0.36319212343381085\n",
      "  (4455, 6428)\t0.36319212343381085\n",
      "  (4455, 6158)\t0.34628357823652833\n",
      "  (4455, 3285)\t0.31737822930144755\n",
      "  (4455, 1353)\t0.324981330584005\n",
      "  (4455, 1268)\t0.27394793268337375\n",
      "  (4455, 2856)\t0.2516758365847381\n",
      "  (4455, 3483)\t0.24151640507435573\n",
      "  (4455, 4470)\t0.2851349711027913\n",
      "  (4456, 64)\t0.3385457318047022\n",
      "  (4456, 671)\t0.3385457318047022\n",
      "  (4456, 4228)\t0.3385457318047022\n",
      "  (4456, 4684)\t0.3385457318047022\n",
      "  (4456, 7279)\t0.26022300036687795\n",
      "  (4456, 6601)\t0.23884175715781628\n",
      "  (4456, 6067)\t0.22409034559050645\n",
      "  (4456, 2954)\t0.28984868954690285\n",
      "  (4456, 5530)\t0.18242204471967008\n",
      "  (4456, 5843)\t0.2629048714492601\n",
      "  (4456, 2071)\t0.21839161745326238\n",
      "  (4456, 6297)\t0.18384868970948873\n",
      "  (4456, 4123)\t0.2688969723960437\n",
      "  (4456, 3078)\t0.16235582628660974\n"
     ]
    }
   ],
   "source": [
    "print(x_train_features)"
   ]
  },
  {
   "cell_type": "code",
   "execution_count": 99,
   "metadata": {},
   "outputs": [
    {
     "name": "stdout",
     "output_type": "stream",
     "text": [
      "  (0, 6824)\t0.24794236456194046\n",
      "  (0, 6633)\t0.18846021584608846\n",
      "  (0, 6453)\t0.2308409974214785\n",
      "  (0, 4891)\t0.34214311139979436\n",
      "  (0, 4443)\t0.2876828663523952\n",
      "  (0, 3975)\t0.2789167248847912\n",
      "  (0, 3083)\t0.32621451083338754\n",
      "  (0, 2382)\t0.5259762486367688\n",
      "  (0, 1849)\t0.16878737748053055\n",
      "  (0, 1279)\t0.34214311139979436\n",
      "  (0, 929)\t0.2085278792709853\n",
      "  (1, 6557)\t1.0\n",
      "  (2, 4762)\t1.0\n",
      "  (3, 7125)\t0.19579156055392108\n",
      "  (3, 4323)\t0.1864818173754996\n",
      "  (3, 3410)\t0.24377313384710314\n",
      "  (3, 2954)\t0.27416922366319624\n",
      "  (3, 1844)\t0.19771037506290576\n",
      "  (3, 1654)\t0.29474569958063007\n",
      "  (3, 1604)\t0.32023198244739365\n",
      "  (3, 1354)\t0.6404639648947873\n",
      "  (3, 999)\t0.22592152905944315\n",
      "  (3, 488)\t0.32023198244739365\n",
      "  (5, 7207)\t0.7769551456052065\n",
      "  (5, 3130)\t0.6295559559861159\n",
      "  :\t:\n",
      "  (1111, 2557)\t0.6286947066515761\n",
      "  (1112, 2607)\t0.6503600659173062\n",
      "  (1112, 806)\t0.7596260821351761\n",
      "  (1113, 6747)\t0.3601150695607102\n",
      "  (1113, 5058)\t0.35754260011982314\n",
      "  (1113, 4356)\t0.5712397286438355\n",
      "  (1113, 4027)\t0.26598850251005907\n",
      "  (1113, 3894)\t0.31021414761701144\n",
      "  (1113, 3578)\t0.4991822285943939\n",
      "  (1114, 7320)\t0.19942339559816544\n",
      "  (1114, 7014)\t0.3369913133839738\n",
      "  (1114, 6977)\t0.21244259489572256\n",
      "  (1114, 6834)\t0.22515347993311632\n",
      "  (1114, 6720)\t0.25418523056329134\n",
      "  (1114, 5941)\t0.23628482994640262\n",
      "  (1114, 5248)\t0.2041192397490147\n",
      "  (1114, 3990)\t0.22515347993311632\n",
      "  (1114, 3869)\t0.2565309932975158\n",
      "  (1114, 3157)\t0.21918889146460532\n",
      "  (1114, 2378)\t0.22971088660202976\n",
      "  (1114, 1922)\t0.21092501862772953\n",
      "  (1114, 1770)\t0.1905687748754116\n",
      "  (1114, 1542)\t0.3369913133839738\n",
      "  (1114, 633)\t0.2519735866286023\n",
      "  (1114, 161)\t0.3369913133839738\n"
     ]
    }
   ],
   "source": [
    "print(x_test_features)"
   ]
  },
  {
   "cell_type": "code",
   "execution_count": 100,
   "metadata": {},
   "outputs": [],
   "source": [
    "model=LogisticRegression()"
   ]
  },
  {
   "cell_type": "code",
   "execution_count": 101,
   "metadata": {},
   "outputs": [
    {
     "data": {
      "text/html": [
       "<style>#sk-container-id-3 {color: black;background-color: white;}#sk-container-id-3 pre{padding: 0;}#sk-container-id-3 div.sk-toggleable {background-color: white;}#sk-container-id-3 label.sk-toggleable__label {cursor: pointer;display: block;width: 100%;margin-bottom: 0;padding: 0.3em;box-sizing: border-box;text-align: center;}#sk-container-id-3 label.sk-toggleable__label-arrow:before {content: \"▸\";float: left;margin-right: 0.25em;color: #696969;}#sk-container-id-3 label.sk-toggleable__label-arrow:hover:before {color: black;}#sk-container-id-3 div.sk-estimator:hover label.sk-toggleable__label-arrow:before {color: black;}#sk-container-id-3 div.sk-toggleable__content {max-height: 0;max-width: 0;overflow: hidden;text-align: left;background-color: #f0f8ff;}#sk-container-id-3 div.sk-toggleable__content pre {margin: 0.2em;color: black;border-radius: 0.25em;background-color: #f0f8ff;}#sk-container-id-3 input.sk-toggleable__control:checked~div.sk-toggleable__content {max-height: 200px;max-width: 100%;overflow: auto;}#sk-container-id-3 input.sk-toggleable__control:checked~label.sk-toggleable__label-arrow:before {content: \"▾\";}#sk-container-id-3 div.sk-estimator input.sk-toggleable__control:checked~label.sk-toggleable__label {background-color: #d4ebff;}#sk-container-id-3 div.sk-label input.sk-toggleable__control:checked~label.sk-toggleable__label {background-color: #d4ebff;}#sk-container-id-3 input.sk-hidden--visually {border: 0;clip: rect(1px 1px 1px 1px);clip: rect(1px, 1px, 1px, 1px);height: 1px;margin: -1px;overflow: hidden;padding: 0;position: absolute;width: 1px;}#sk-container-id-3 div.sk-estimator {font-family: monospace;background-color: #f0f8ff;border: 1px dotted black;border-radius: 0.25em;box-sizing: border-box;margin-bottom: 0.5em;}#sk-container-id-3 div.sk-estimator:hover {background-color: #d4ebff;}#sk-container-id-3 div.sk-parallel-item::after {content: \"\";width: 100%;border-bottom: 1px solid gray;flex-grow: 1;}#sk-container-id-3 div.sk-label:hover label.sk-toggleable__label {background-color: #d4ebff;}#sk-container-id-3 div.sk-serial::before {content: \"\";position: absolute;border-left: 1px solid gray;box-sizing: border-box;top: 0;bottom: 0;left: 50%;z-index: 0;}#sk-container-id-3 div.sk-serial {display: flex;flex-direction: column;align-items: center;background-color: white;padding-right: 0.2em;padding-left: 0.2em;position: relative;}#sk-container-id-3 div.sk-item {position: relative;z-index: 1;}#sk-container-id-3 div.sk-parallel {display: flex;align-items: stretch;justify-content: center;background-color: white;position: relative;}#sk-container-id-3 div.sk-item::before, #sk-container-id-3 div.sk-parallel-item::before {content: \"\";position: absolute;border-left: 1px solid gray;box-sizing: border-box;top: 0;bottom: 0;left: 50%;z-index: -1;}#sk-container-id-3 div.sk-parallel-item {display: flex;flex-direction: column;z-index: 1;position: relative;background-color: white;}#sk-container-id-3 div.sk-parallel-item:first-child::after {align-self: flex-end;width: 50%;}#sk-container-id-3 div.sk-parallel-item:last-child::after {align-self: flex-start;width: 50%;}#sk-container-id-3 div.sk-parallel-item:only-child::after {width: 0;}#sk-container-id-3 div.sk-dashed-wrapped {border: 1px dashed gray;margin: 0 0.4em 0.5em 0.4em;box-sizing: border-box;padding-bottom: 0.4em;background-color: white;}#sk-container-id-3 div.sk-label label {font-family: monospace;font-weight: bold;display: inline-block;line-height: 1.2em;}#sk-container-id-3 div.sk-label-container {text-align: center;}#sk-container-id-3 div.sk-container {/* jupyter's `normalize.less` sets `[hidden] { display: none; }` but bootstrap.min.css set `[hidden] { display: none !important; }` so we also need the `!important` here to be able to override the default hidden behavior on the sphinx rendered scikit-learn.org. See: https://github.com/scikit-learn/scikit-learn/issues/21755 */display: inline-block !important;position: relative;}#sk-container-id-3 div.sk-text-repr-fallback {display: none;}</style><div id=\"sk-container-id-3\" class=\"sk-top-container\"><div class=\"sk-text-repr-fallback\"><pre>LogisticRegression()</pre><b>In a Jupyter environment, please rerun this cell to show the HTML representation or trust the notebook. <br />On GitHub, the HTML representation is unable to render, please try loading this page with nbviewer.org.</b></div><div class=\"sk-container\" hidden><div class=\"sk-item\"><div class=\"sk-estimator sk-toggleable\"><input class=\"sk-toggleable__control sk-hidden--visually\" id=\"sk-estimator-id-3\" type=\"checkbox\" checked><label for=\"sk-estimator-id-3\" class=\"sk-toggleable__label sk-toggleable__label-arrow\">LogisticRegression</label><div class=\"sk-toggleable__content\"><pre>LogisticRegression()</pre></div></div></div></div></div>"
      ],
      "text/plain": [
       "LogisticRegression()"
      ]
     },
     "execution_count": 101,
     "metadata": {},
     "output_type": "execute_result"
    }
   ],
   "source": [
    "model.fit(x_train_features, y_train)"
   ]
  },
  {
   "cell_type": "code",
   "execution_count": 102,
   "metadata": {},
   "outputs": [],
   "source": [
    "#EVALUTING THE TRAINING THE MODEL\n",
    "prediction_on_training_data=model.predict(x_train_features)\n",
    "accuracy_on_training_data=accuracy_score(y_train,prediction_on_training_data)"
   ]
  },
  {
   "cell_type": "code",
   "execution_count": 106,
   "metadata": {},
   "outputs": [
    {
     "name": "stdout",
     "output_type": "stream",
     "text": [
      "accuracy_score on corresponding training data: 0.9506726457399103\n"
     ]
    }
   ],
   "source": [
    "print(\"accuracy_score on corresponding training data:\",accuracy_on_training_data)"
   ]
  },
  {
   "cell_type": "code",
   "execution_count": 108,
   "metadata": {},
   "outputs": [],
   "source": [
    "prediction_on_testing_data=model.predict(x_test_features)\n",
    "accuracy_on_testing_data=accuracy_score(y_test,prediction_on_testing_data)"
   ]
  },
  {
   "cell_type": "code",
   "execution_count": 109,
   "metadata": {},
   "outputs": [
    {
     "name": "stdout",
     "output_type": "stream",
     "text": [
      "accuracy_score on corresponding testing data: 0.9506726457399103\n"
     ]
    }
   ],
   "source": [
    "print(\"accuracy_score on corresponding testing data:\",accuracy_on_testing_data)"
   ]
  },
  {
   "attachments": {},
   "cell_type": "markdown",
   "metadata": {},
   "source": [
    "## Building the model for predictive nature of a given  data\n",
    "\n",
    "#### test-1"
   ]
  },
  {
   "cell_type": "code",
   "execution_count": 118,
   "metadata": {},
   "outputs": [
    {
     "name": "stdout",
     "output_type": "stream",
     "text": [
      "spam mail\n"
     ]
    }
   ],
   "source": [
    "input_data=[\"Thanks for registering!  Your new TypeRacer account will remember your score for each race and show how your typing speed improves over timePlease complete your account activation using this link:,https://data.typeracer.com/confirm_email?code=bKMGj50ZY8WM&id=tr%3Aadx123,Ready to race?,The TypeRacer Team,https://play.typeracer.com\"]\n",
    "input_data_features=feature_extraction.transform(input_data)\n",
    "prediction=model.predict(input_data_features)\n",
    "\n",
    "if prediction[0]==1:\n",
    "    print(\"spam mail\")\n",
    "else:\n",
    "    print(\"ham mail\")\n",
    "    "
   ]
  }
 ],
 "metadata": {
  "kernelspec": {
   "display_name": "base",
   "language": "python",
   "name": "python3"
  },
  "language_info": {
   "codemirror_mode": {
    "name": "ipython",
    "version": 3
   },
   "file_extension": ".py",
   "mimetype": "text/x-python",
   "name": "python",
   "nbconvert_exporter": "python",
   "pygments_lexer": "ipython3",
   "version": "3.10.9"
  },
  "orig_nbformat": 4
 },
 "nbformat": 4,
 "nbformat_minor": 2
}
